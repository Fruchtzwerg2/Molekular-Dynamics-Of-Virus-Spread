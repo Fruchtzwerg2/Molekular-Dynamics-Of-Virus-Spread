Simulation of a Virus
before starting a simulation please import all things needed by running the first cell

In [ ]:
import matplotlib.pyplot as plt
import matplotlib.animation as animation
import src.scenario_main as s

#Command damit Grafik auch im Notebook arbeitet
from importlib import reload
reload(plt)
%matplotlib notebook
Basic Scenario
Scenario with the Lennard-Jones potential

In [ ]:
p, a, a_2 = s.scenario_basic(plt)
Random Walk Scenario
Particles move randomly

In [ ]:
p, a, a_2 = s.scenario_randomwalk(plt)
Cities Scenario
Scenario with three different populations

In [ ]:
p, c_1, c_2, c_3, st  = s.scenario_cities(plt)
Mask and Vulnerable Scenario
Humans in the simulation react differently to infection

In [ ]:
p, a, a_2 = s.scenario_mask_vulnerable(plt)
Quarantine Scenario
Humans that are infected can get quarantined

In [ ]:
p, a, a_2, a_3kj = s.scenario_quarantine(plt)
